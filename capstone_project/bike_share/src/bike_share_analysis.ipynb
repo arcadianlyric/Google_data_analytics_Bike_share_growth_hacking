{
 "cells": [
  {
   "cell_type": "code",
   "execution_count": 30,
   "metadata": {},
   "outputs": [],
   "source": [
    "import pandas as pd\n",
    "pd.set_option('display.max_columns', None)\n",
    "pd.set_option('display.float_format', lambda x: '%.2f' % x) \n",
    "import numpy as np\n",
    "import seaborn as sns\n",
    "sns.set_palette(\"Set2\")\n",
    "import matplotlib.pyplot as plt\n",
    "from collections import Counter\n",
    "from pathlib import Path\n",
    "import warnings\n",
    "warnings.simplefilter('ignore')"
   ]
  },
  {
   "cell_type": "code",
   "execution_count": 5,
   "metadata": {},
   "outputs": [
    {
     "data": {
      "text/plain": [
       "(3489748, 13)"
      ]
     },
     "execution_count": 5,
     "metadata": {},
     "output_type": "execute_result"
    }
   ],
   "source": [
    "# read all data, contatinate to 1 df, note data format different from year to year\n",
    "\n",
    "extension = 'csv'\n",
    "all_filenames = list(Path('../data/data_used').glob('*.{extension}'.format(extension=extension)))\n",
    "df = pd.concat([pd.read_csv(f, dtype={'start_station_id': str,'end_station_id': str}) for f in all_filenames ])\n",
    "df.shape"
   ]
  },
  {
   "cell_type": "code",
   "execution_count": 6,
   "metadata": {},
   "outputs": [
    {
     "data": {
      "text/html": [
       "<div>\n",
       "<style scoped>\n",
       "    .dataframe tbody tr th:only-of-type {\n",
       "        vertical-align: middle;\n",
       "    }\n",
       "\n",
       "    .dataframe tbody tr th {\n",
       "        vertical-align: top;\n",
       "    }\n",
       "\n",
       "    .dataframe thead th {\n",
       "        text-align: right;\n",
       "    }\n",
       "</style>\n",
       "<table border=\"1\" class=\"dataframe\">\n",
       "  <thead>\n",
       "    <tr style=\"text-align: right;\">\n",
       "      <th></th>\n",
       "      <th>ride_id</th>\n",
       "      <th>rideable_type</th>\n",
       "      <th>started_at</th>\n",
       "      <th>ended_at</th>\n",
       "      <th>start_station_name</th>\n",
       "      <th>start_station_id</th>\n",
       "      <th>end_station_name</th>\n",
       "      <th>end_station_id</th>\n",
       "      <th>start_lat</th>\n",
       "      <th>start_lng</th>\n",
       "      <th>end_lat</th>\n",
       "      <th>end_lng</th>\n",
       "      <th>member_casual</th>\n",
       "    </tr>\n",
       "  </thead>\n",
       "  <tbody>\n",
       "    <tr>\n",
       "      <th>0</th>\n",
       "      <td>BD0A6FF6FFF9B921</td>\n",
       "      <td>electric_bike</td>\n",
       "      <td>2020-11-01 13:36:00</td>\n",
       "      <td>2020-11-01 13:45:40</td>\n",
       "      <td>Dearborn St &amp; Erie St</td>\n",
       "      <td>110</td>\n",
       "      <td>St. Clair St &amp; Erie St</td>\n",
       "      <td>211</td>\n",
       "      <td>41.89</td>\n",
       "      <td>-87.63</td>\n",
       "      <td>41.89</td>\n",
       "      <td>-87.62</td>\n",
       "      <td>casual</td>\n",
       "    </tr>\n",
       "    <tr>\n",
       "      <th>1</th>\n",
       "      <td>96A7A7A4BDE4F82D</td>\n",
       "      <td>electric_bike</td>\n",
       "      <td>2020-11-01 10:03:26</td>\n",
       "      <td>2020-11-01 10:14:45</td>\n",
       "      <td>Franklin St &amp; Illinois St</td>\n",
       "      <td>672</td>\n",
       "      <td>Noble St &amp; Milwaukee Ave</td>\n",
       "      <td>29</td>\n",
       "      <td>41.89</td>\n",
       "      <td>-87.64</td>\n",
       "      <td>41.90</td>\n",
       "      <td>-87.66</td>\n",
       "      <td>casual</td>\n",
       "    </tr>\n",
       "    <tr>\n",
       "      <th>2</th>\n",
       "      <td>C61526D06582BDC5</td>\n",
       "      <td>electric_bike</td>\n",
       "      <td>2020-11-01 00:34:05</td>\n",
       "      <td>2020-11-01 01:03:06</td>\n",
       "      <td>Lake Shore Dr &amp; Monroe St</td>\n",
       "      <td>76</td>\n",
       "      <td>Federal St &amp; Polk St</td>\n",
       "      <td>41</td>\n",
       "      <td>41.88</td>\n",
       "      <td>-87.62</td>\n",
       "      <td>41.87</td>\n",
       "      <td>-87.63</td>\n",
       "      <td>casual</td>\n",
       "    </tr>\n",
       "    <tr>\n",
       "      <th>3</th>\n",
       "      <td>E533E89C32080B9E</td>\n",
       "      <td>electric_bike</td>\n",
       "      <td>2020-11-01 00:45:16</td>\n",
       "      <td>2020-11-01 00:54:31</td>\n",
       "      <td>Leavitt St &amp; Chicago Ave</td>\n",
       "      <td>659</td>\n",
       "      <td>Stave St &amp; Armitage Ave</td>\n",
       "      <td>185</td>\n",
       "      <td>41.90</td>\n",
       "      <td>-87.68</td>\n",
       "      <td>41.92</td>\n",
       "      <td>-87.69</td>\n",
       "      <td>casual</td>\n",
       "    </tr>\n",
       "    <tr>\n",
       "      <th>4</th>\n",
       "      <td>1C9F4EF18C168C60</td>\n",
       "      <td>electric_bike</td>\n",
       "      <td>2020-11-01 15:43:25</td>\n",
       "      <td>2020-11-01 16:16:52</td>\n",
       "      <td>Buckingham Fountain</td>\n",
       "      <td>2</td>\n",
       "      <td>Buckingham Fountain</td>\n",
       "      <td>2</td>\n",
       "      <td>41.88</td>\n",
       "      <td>-87.62</td>\n",
       "      <td>41.88</td>\n",
       "      <td>-87.62</td>\n",
       "      <td>casual</td>\n",
       "    </tr>\n",
       "  </tbody>\n",
       "</table>\n",
       "</div>"
      ],
      "text/plain": [
       "            ride_id  rideable_type           started_at             ended_at  \\\n",
       "0  BD0A6FF6FFF9B921  electric_bike  2020-11-01 13:36:00  2020-11-01 13:45:40   \n",
       "1  96A7A7A4BDE4F82D  electric_bike  2020-11-01 10:03:26  2020-11-01 10:14:45   \n",
       "2  C61526D06582BDC5  electric_bike  2020-11-01 00:34:05  2020-11-01 01:03:06   \n",
       "3  E533E89C32080B9E  electric_bike  2020-11-01 00:45:16  2020-11-01 00:54:31   \n",
       "4  1C9F4EF18C168C60  electric_bike  2020-11-01 15:43:25  2020-11-01 16:16:52   \n",
       "\n",
       "          start_station_name start_station_id          end_station_name  \\\n",
       "0      Dearborn St & Erie St              110    St. Clair St & Erie St   \n",
       "1  Franklin St & Illinois St              672  Noble St & Milwaukee Ave   \n",
       "2  Lake Shore Dr & Monroe St               76      Federal St & Polk St   \n",
       "3   Leavitt St & Chicago Ave              659   Stave St & Armitage Ave   \n",
       "4        Buckingham Fountain                2       Buckingham Fountain   \n",
       "\n",
       "  end_station_id  start_lat  start_lng  end_lat  end_lng member_casual  \n",
       "0            211      41.89     -87.63    41.89   -87.62        casual  \n",
       "1             29      41.89     -87.64    41.90   -87.66        casual  \n",
       "2             41      41.88     -87.62    41.87   -87.63        casual  \n",
       "3            185      41.90     -87.68    41.92   -87.69        casual  \n",
       "4              2      41.88     -87.62    41.88   -87.62        casual  "
      ]
     },
     "execution_count": 6,
     "metadata": {},
     "output_type": "execute_result"
    }
   ],
   "source": [
    "df.head()"
   ]
  },
  {
   "cell_type": "code",
   "execution_count": 7,
   "metadata": {},
   "outputs": [
    {
     "name": "stdout",
     "output_type": "stream",
     "text": [
      "<class 'pandas.core.frame.DataFrame'>\n",
      "Int64Index: 3489748 entries, 0 to 388652\n",
      "Data columns (total 13 columns):\n",
      "ride_id               object\n",
      "rideable_type         object\n",
      "started_at            object\n",
      "ended_at              object\n",
      "start_station_name    object\n",
      "start_station_id      object\n",
      "end_station_name      object\n",
      "end_station_id        object\n",
      "start_lat             float64\n",
      "start_lng             float64\n",
      "end_lat               float64\n",
      "end_lng               float64\n",
      "member_casual         object\n",
      "dtypes: float64(4), object(9)\n",
      "memory usage: 372.7+ MB\n"
     ]
    }
   ],
   "source": [
    "df.info()"
   ]
  },
  {
   "cell_type": "code",
   "execution_count": 8,
   "metadata": {},
   "outputs": [
    {
     "data": {
      "text/html": [
       "<div>\n",
       "<style scoped>\n",
       "    .dataframe tbody tr th:only-of-type {\n",
       "        vertical-align: middle;\n",
       "    }\n",
       "\n",
       "    .dataframe tbody tr th {\n",
       "        vertical-align: top;\n",
       "    }\n",
       "\n",
       "    .dataframe thead th {\n",
       "        text-align: right;\n",
       "    }\n",
       "</style>\n",
       "<table border=\"1\" class=\"dataframe\">\n",
       "  <thead>\n",
       "    <tr style=\"text-align: right;\">\n",
       "      <th></th>\n",
       "      <th>start_lat</th>\n",
       "      <th>start_lng</th>\n",
       "      <th>end_lat</th>\n",
       "      <th>end_lng</th>\n",
       "    </tr>\n",
       "  </thead>\n",
       "  <tbody>\n",
       "    <tr>\n",
       "      <th>count</th>\n",
       "      <td>3489748.00</td>\n",
       "      <td>3489748.00</td>\n",
       "      <td>3485010.00</td>\n",
       "      <td>3485010.00</td>\n",
       "    </tr>\n",
       "    <tr>\n",
       "      <th>mean</th>\n",
       "      <td>41.90</td>\n",
       "      <td>-87.64</td>\n",
       "      <td>41.90</td>\n",
       "      <td>-87.65</td>\n",
       "    </tr>\n",
       "    <tr>\n",
       "      <th>std</th>\n",
       "      <td>0.04</td>\n",
       "      <td>0.03</td>\n",
       "      <td>0.04</td>\n",
       "      <td>0.03</td>\n",
       "    </tr>\n",
       "    <tr>\n",
       "      <th>min</th>\n",
       "      <td>41.64</td>\n",
       "      <td>-87.87</td>\n",
       "      <td>41.54</td>\n",
       "      <td>-88.07</td>\n",
       "    </tr>\n",
       "    <tr>\n",
       "      <th>25%</th>\n",
       "      <td>41.88</td>\n",
       "      <td>-87.66</td>\n",
       "      <td>41.88</td>\n",
       "      <td>-87.66</td>\n",
       "    </tr>\n",
       "    <tr>\n",
       "      <th>50%</th>\n",
       "      <td>41.90</td>\n",
       "      <td>-87.64</td>\n",
       "      <td>41.90</td>\n",
       "      <td>-87.64</td>\n",
       "    </tr>\n",
       "    <tr>\n",
       "      <th>75%</th>\n",
       "      <td>41.93</td>\n",
       "      <td>-87.63</td>\n",
       "      <td>41.93</td>\n",
       "      <td>-87.63</td>\n",
       "    </tr>\n",
       "    <tr>\n",
       "      <th>max</th>\n",
       "      <td>42.08</td>\n",
       "      <td>-87.52</td>\n",
       "      <td>42.16</td>\n",
       "      <td>-87.44</td>\n",
       "    </tr>\n",
       "  </tbody>\n",
       "</table>\n",
       "</div>"
      ],
      "text/plain": [
       "       start_lat  start_lng    end_lat    end_lng\n",
       "count 3489748.00 3489748.00 3485010.00 3485010.00\n",
       "mean       41.90     -87.64      41.90     -87.65\n",
       "std         0.04       0.03       0.04       0.03\n",
       "min        41.64     -87.87      41.54     -88.07\n",
       "25%        41.88     -87.66      41.88     -87.66\n",
       "50%        41.90     -87.64      41.90     -87.64\n",
       "75%        41.93     -87.63      41.93     -87.63\n",
       "max        42.08     -87.52      42.16     -87.44"
      ]
     },
     "execution_count": 8,
     "metadata": {},
     "output_type": "execute_result"
    }
   ],
   "source": [
    "df.describe()"
   ]
  },
  {
   "cell_type": "code",
   "execution_count": 14,
   "metadata": {},
   "outputs": [
    {
     "data": {
      "text/plain": [
       "Index(['ride_id', 'rideable_type', 'started_at', 'ended_at',\n",
       "       'start_station_name', 'start_station_id', 'end_station_name',\n",
       "       'end_station_id', 'start_lat', 'start_lng', 'end_lat', 'end_lng',\n",
       "       'member_casual'],\n",
       "      dtype='object')"
      ]
     },
     "execution_count": 14,
     "metadata": {},
     "output_type": "execute_result"
    }
   ],
   "source": [
    "df.columns"
   ]
  },
  {
   "cell_type": "code",
   "execution_count": 9,
   "metadata": {},
   "outputs": [
    {
     "data": {
      "text/plain": [
       "(3294691, 13)"
      ]
     },
     "execution_count": 9,
     "metadata": {},
     "output_type": "execute_result"
    }
   ],
   "source": [
    "# cleaning, drop missing, correct data type\n",
    "df = df.dropna(axis=0)\n",
    "df.shape"
   ]
  },
  {
   "cell_type": "code",
   "execution_count": 11,
   "metadata": {},
   "outputs": [],
   "source": [
    "# create new metrics time_length, distance, \n",
    "df[['ended_at', 'started_at']] = df[['ended_at', 'started_at']].apply(pd.to_datetime)\n",
    "df['time_length'] = df['ended_at'] - df['started_at']\n",
    "df['time_length'] = df['time_length'].dt.total_seconds()"
   ]
  },
  {
   "cell_type": "code",
   "execution_count": 12,
   "metadata": {},
   "outputs": [],
   "source": [
    "# create new metrics, speed\n",
    "def haversine_distance(lat1, lon1, lat2, lon2):\n",
    "    r = 6371  # earch radius\n",
    "    # convert lat, lng to radians\n",
    "    phi1 = np.radians(lat1)\n",
    "    phi2 = np.radians(lat2)\n",
    "    delta_phi = np.radians(lat2-lat1)\n",
    "    delta_lambda = np.radians(lon2-lon1)\n",
    "    a = np.sin(delta_phi/2)**2 + np.cos(phi1) * np.cos(phi2) * np.sin(delta_lambda/2)**2\n",
    "    res = r * (2*np.arctan2(np.sqrt(a), np.sqrt(1-a)))\n",
    "    return np.round(res, 2)\n",
    "\n",
    "df['dist'] = haversine_distance(df.start_lat, df.start_lng, df.end_lat, df.end_lng)\n",
    "# speed as meter/second\n",
    "df['speed'] = df['dist']*1000 / df['time_length']"
   ]
  },
  {
   "cell_type": "code",
   "execution_count": 35,
   "metadata": {},
   "outputs": [],
   "source": [
    "# output for Tableau\n",
    "df.to_csv('../results/divvy-tripdata-2020_2021.csv', index=False, header=True, float_format='%.2f')"
   ]
  },
  {
   "cell_type": "code",
   "execution_count": 13,
   "metadata": {},
   "outputs": [
    {
     "data": {
      "text/plain": [
       "count    3294691.00\n",
       "mean        1513.37\n",
       "std        22865.66\n",
       "min     -1742998.00\n",
       "25%          482.00\n",
       "50%          882.00\n",
       "75%         1612.00\n",
       "90%         2787.00\n",
       "95%         4427.00\n",
       "99%         9569.00\n",
       "max      3523202.00\n",
       "Name: time_length, dtype: float64"
      ]
     },
     "execution_count": 13,
     "metadata": {},
     "output_type": "execute_result"
    }
   ],
   "source": [
    "### data integrity, outliers\n",
    "df.time_length.describe(percentiles=[.25, .5, .75, .9, .95, .99])"
   ]
  },
  {
   "cell_type": "code",
   "execution_count": 14,
   "metadata": {},
   "outputs": [],
   "source": [
    "member = df[df.member_casual=='member']\n",
    "casual = df[df.member_casual=='casual']"
   ]
  },
  {
   "cell_type": "code",
   "execution_count": 46,
   "metadata": {},
   "outputs": [],
   "source": [
    "# need higher resolution (float) for mapping\n",
    "# member[['start_lat', 'start_lng','ride_id']].to_csv('member_start.csv', index=False, header=True, float_format='%.2f')\n",
    "member[['start_lat', 'start_lng','ride_id','start_station_name']].to_csv('member_start.csv', index=False, header=True)"
   ]
  },
  {
   "cell_type": "code",
   "execution_count": 47,
   "metadata": {},
   "outputs": [],
   "source": [
    "casual[['start_lat', 'start_lng','ride_id','start_station_name']].to_csv('casual_start.csv', index=False, header=True)"
   ]
  },
  {
   "cell_type": "code",
   "execution_count": 15,
   "metadata": {},
   "outputs": [
    {
     "data": {
      "text/html": [
       "<div>\n",
       "<style scoped>\n",
       "    .dataframe tbody tr th:only-of-type {\n",
       "        vertical-align: middle;\n",
       "    }\n",
       "\n",
       "    .dataframe tbody tr th {\n",
       "        vertical-align: top;\n",
       "    }\n",
       "\n",
       "    .dataframe thead th {\n",
       "        text-align: right;\n",
       "    }\n",
       "</style>\n",
       "<table border=\"1\" class=\"dataframe\">\n",
       "  <thead>\n",
       "    <tr style=\"text-align: right;\">\n",
       "      <th></th>\n",
       "      <th>ride_id</th>\n",
       "    </tr>\n",
       "    <tr>\n",
       "      <th>rideable_type</th>\n",
       "      <th></th>\n",
       "    </tr>\n",
       "  </thead>\n",
       "  <tbody>\n",
       "    <tr>\n",
       "      <th>classic_bike</th>\n",
       "      <td>318614</td>\n",
       "    </tr>\n",
       "    <tr>\n",
       "      <th>docked_bike</th>\n",
       "      <td>2554291</td>\n",
       "    </tr>\n",
       "    <tr>\n",
       "      <th>electric_bike</th>\n",
       "      <td>421786</td>\n",
       "    </tr>\n",
       "  </tbody>\n",
       "</table>\n",
       "</div>"
      ],
      "text/plain": [
       "               ride_id\n",
       "rideable_type         \n",
       "classic_bike    318614\n",
       "docked_bike    2554291\n",
       "electric_bike   421786"
      ]
     },
     "execution_count": 15,
     "metadata": {},
     "output_type": "execute_result"
    }
   ],
   "source": [
    "# biased on docked_bike\n",
    "df.iloc[:, 0:2].groupby('rideable_type').count()"
   ]
  },
  {
   "cell_type": "code",
   "execution_count": 16,
   "metadata": {},
   "outputs": [
    {
     "data": {
      "text/html": [
       "<div>\n",
       "<style scoped>\n",
       "    .dataframe tbody tr th:only-of-type {\n",
       "        vertical-align: middle;\n",
       "    }\n",
       "\n",
       "    .dataframe tbody tr th {\n",
       "        vertical-align: top;\n",
       "    }\n",
       "\n",
       "    .dataframe thead th {\n",
       "        text-align: right;\n",
       "    }\n",
       "</style>\n",
       "<table border=\"1\" class=\"dataframe\">\n",
       "  <thead>\n",
       "    <tr style=\"text-align: right;\">\n",
       "      <th></th>\n",
       "      <th>ride_id</th>\n",
       "    </tr>\n",
       "    <tr>\n",
       "      <th>member_casual</th>\n",
       "      <th></th>\n",
       "    </tr>\n",
       "  </thead>\n",
       "  <tbody>\n",
       "    <tr>\n",
       "      <th>casual</th>\n",
       "      <td>1351239</td>\n",
       "    </tr>\n",
       "    <tr>\n",
       "      <th>member</th>\n",
       "      <td>1943452</td>\n",
       "    </tr>\n",
       "  </tbody>\n",
       "</table>\n",
       "</div>"
      ],
      "text/plain": [
       "               ride_id\n",
       "member_casual         \n",
       "casual         1351239\n",
       "member         1943452"
      ]
     },
     "execution_count": 16,
     "metadata": {},
     "output_type": "execute_result"
    }
   ],
   "source": [
    "# balanced on member / casual\n",
    "df[['ride_id','member_casual']].groupby('member_casual').count()"
   ]
  },
  {
   "cell_type": "code",
   "execution_count": 17,
   "metadata": {},
   "outputs": [],
   "source": [
    "### create new metrics on time spacial, time in day, weekday, season, year, geo district etc.\n",
    "df['time_type'] = (df['started_at'].dt.hour % 24 + 4) // 4\n",
    "df['time_type'].replace({1: 'Late Night', 2: 'Early Morning', 3: 'Morning',\n",
    "                      4: 'Noon', 5: 'Evening', 6: 'Night'}, inplace=True)\n",
    "\n",
    "df['weekday'] = df['started_at'].dt.dayofweek\n",
    "\n",
    "df['weekofyear'] = df['started_at'].dt.weekofyear"
   ]
  },
  {
   "cell_type": "code",
   "execution_count": 18,
   "metadata": {},
   "outputs": [],
   "source": [
    "df2 = df[df['time_length'].between(0,9569)]"
   ]
  },
  {
   "cell_type": "code",
   "execution_count": 31,
   "metadata": {},
   "outputs": [
    {
     "data": {
      "text/html": [
       "<div>\n",
       "<style scoped>\n",
       "    .dataframe tbody tr th:only-of-type {\n",
       "        vertical-align: middle;\n",
       "    }\n",
       "\n",
       "    .dataframe tbody tr th {\n",
       "        vertical-align: top;\n",
       "    }\n",
       "\n",
       "    .dataframe thead tr th {\n",
       "        text-align: left;\n",
       "    }\n",
       "\n",
       "    .dataframe thead tr:last-of-type th {\n",
       "        text-align: right;\n",
       "    }\n",
       "</style>\n",
       "<table border=\"1\" class=\"dataframe\">\n",
       "  <thead>\n",
       "    <tr>\n",
       "      <th></th>\n",
       "      <th colspan=\"8\" halign=\"left\">dist</th>\n",
       "      <th colspan=\"8\" halign=\"left\">speed</th>\n",
       "      <th colspan=\"8\" halign=\"left\">time_length</th>\n",
       "    </tr>\n",
       "    <tr>\n",
       "      <th></th>\n",
       "      <th>count</th>\n",
       "      <th>mean</th>\n",
       "      <th>std</th>\n",
       "      <th>min</th>\n",
       "      <th>25%</th>\n",
       "      <th>50%</th>\n",
       "      <th>75%</th>\n",
       "      <th>max</th>\n",
       "      <th>count</th>\n",
       "      <th>mean</th>\n",
       "      <th>std</th>\n",
       "      <th>min</th>\n",
       "      <th>25%</th>\n",
       "      <th>50%</th>\n",
       "      <th>75%</th>\n",
       "      <th>max</th>\n",
       "      <th>count</th>\n",
       "      <th>mean</th>\n",
       "      <th>std</th>\n",
       "      <th>min</th>\n",
       "      <th>25%</th>\n",
       "      <th>50%</th>\n",
       "      <th>75%</th>\n",
       "      <th>max</th>\n",
       "    </tr>\n",
       "    <tr>\n",
       "      <th>member_casual</th>\n",
       "      <th></th>\n",
       "      <th></th>\n",
       "      <th></th>\n",
       "      <th></th>\n",
       "      <th></th>\n",
       "      <th></th>\n",
       "      <th></th>\n",
       "      <th></th>\n",
       "      <th></th>\n",
       "      <th></th>\n",
       "      <th></th>\n",
       "      <th></th>\n",
       "      <th></th>\n",
       "      <th></th>\n",
       "      <th></th>\n",
       "      <th></th>\n",
       "      <th></th>\n",
       "      <th></th>\n",
       "      <th></th>\n",
       "      <th></th>\n",
       "      <th></th>\n",
       "      <th></th>\n",
       "      <th></th>\n",
       "      <th></th>\n",
       "    </tr>\n",
       "  </thead>\n",
       "  <tbody>\n",
       "    <tr>\n",
       "      <th>casual</th>\n",
       "      <td>1317602.00</td>\n",
       "      <td>2.17</td>\n",
       "      <td>2.14</td>\n",
       "      <td>0.00</td>\n",
       "      <td>0.66</td>\n",
       "      <td>1.67</td>\n",
       "      <td>3.04</td>\n",
       "      <td>31.29</td>\n",
       "      <td>1317545.00</td>\n",
       "      <td>inf</td>\n",
       "      <td>nan</td>\n",
       "      <td>0.00</td>\n",
       "      <td>0.35</td>\n",
       "      <td>2.01</td>\n",
       "      <td>2.96</td>\n",
       "      <td>inf</td>\n",
       "      <td>1317602.00</td>\n",
       "      <td>1855.49</td>\n",
       "      <td>1740.13</td>\n",
       "      <td>0.00</td>\n",
       "      <td>701.00</td>\n",
       "      <td>1265.00</td>\n",
       "      <td>2317.00</td>\n",
       "      <td>9569.00</td>\n",
       "    </tr>\n",
       "    <tr>\n",
       "      <th>member</th>\n",
       "      <td>1933690.00</td>\n",
       "      <td>2.26</td>\n",
       "      <td>1.90</td>\n",
       "      <td>0.00</td>\n",
       "      <td>0.95</td>\n",
       "      <td>1.72</td>\n",
       "      <td>3.06</td>\n",
       "      <td>27.71</td>\n",
       "      <td>1933636.00</td>\n",
       "      <td>inf</td>\n",
       "      <td>nan</td>\n",
       "      <td>0.00</td>\n",
       "      <td>2.18</td>\n",
       "      <td>2.91</td>\n",
       "      <td>3.56</td>\n",
       "      <td>inf</td>\n",
       "      <td>1933690.00</td>\n",
       "      <td>904.59</td>\n",
       "      <td>743.55</td>\n",
       "      <td>0.00</td>\n",
       "      <td>396.00</td>\n",
       "      <td>695.00</td>\n",
       "      <td>1208.00</td>\n",
       "      <td>9567.00</td>\n",
       "    </tr>\n",
       "  </tbody>\n",
       "</table>\n",
       "</div>"
      ],
      "text/plain": [
       "                    dist                                          speed       \\\n",
       "                   count mean  std  min  25%  50%  75%   max      count mean   \n",
       "member_casual                                                                  \n",
       "casual        1317602.00 2.17 2.14 0.00 0.66 1.67 3.04 31.29 1317545.00  inf   \n",
       "member        1933690.00 2.26 1.90 0.00 0.95 1.72 3.06 27.71 1933636.00  inf   \n",
       "\n",
       "                                          time_length                       \\\n",
       "              std  min  25%  50%  75% max       count    mean     std  min   \n",
       "member_casual                                                                \n",
       "casual        nan 0.00 0.35 2.01 2.96 inf  1317602.00 1855.49 1740.13 0.00   \n",
       "member        nan 0.00 2.18 2.91 3.56 inf  1933690.00  904.59  743.55 0.00   \n",
       "\n",
       "                                              \n",
       "                 25%     50%     75%     max  \n",
       "member_casual                                 \n",
       "casual        701.00 1265.00 2317.00 9569.00  \n",
       "member        396.00  695.00 1208.00 9567.00  "
      ]
     },
     "execution_count": 31,
     "metadata": {},
     "output_type": "execute_result"
    }
   ],
   "source": [
    "df2.iloc[:, 12:17].groupby('member_casual').describe()"
   ]
  },
  {
   "cell_type": "code",
   "execution_count": 34,
   "metadata": {},
   "outputs": [
    {
     "data": {
      "text/html": [
       "<div>\n",
       "<style scoped>\n",
       "    .dataframe tbody tr th:only-of-type {\n",
       "        vertical-align: middle;\n",
       "    }\n",
       "\n",
       "    .dataframe tbody tr th {\n",
       "        vertical-align: top;\n",
       "    }\n",
       "\n",
       "    .dataframe thead tr th {\n",
       "        text-align: left;\n",
       "    }\n",
       "\n",
       "    .dataframe thead tr:last-of-type th {\n",
       "        text-align: right;\n",
       "    }\n",
       "</style>\n",
       "<table border=\"1\" class=\"dataframe\">\n",
       "  <thead>\n",
       "    <tr>\n",
       "      <th></th>\n",
       "      <th colspan=\"8\" halign=\"left\">dist</th>\n",
       "      <th colspan=\"8\" halign=\"left\">speed</th>\n",
       "      <th colspan=\"8\" halign=\"left\">time_length</th>\n",
       "    </tr>\n",
       "    <tr>\n",
       "      <th></th>\n",
       "      <th>count</th>\n",
       "      <th>mean</th>\n",
       "      <th>std</th>\n",
       "      <th>min</th>\n",
       "      <th>25%</th>\n",
       "      <th>50%</th>\n",
       "      <th>75%</th>\n",
       "      <th>max</th>\n",
       "      <th>count</th>\n",
       "      <th>mean</th>\n",
       "      <th>std</th>\n",
       "      <th>min</th>\n",
       "      <th>25%</th>\n",
       "      <th>50%</th>\n",
       "      <th>75%</th>\n",
       "      <th>max</th>\n",
       "      <th>count</th>\n",
       "      <th>mean</th>\n",
       "      <th>std</th>\n",
       "      <th>min</th>\n",
       "      <th>25%</th>\n",
       "      <th>50%</th>\n",
       "      <th>75%</th>\n",
       "      <th>max</th>\n",
       "    </tr>\n",
       "    <tr>\n",
       "      <th>member_casual</th>\n",
       "      <th></th>\n",
       "      <th></th>\n",
       "      <th></th>\n",
       "      <th></th>\n",
       "      <th></th>\n",
       "      <th></th>\n",
       "      <th></th>\n",
       "      <th></th>\n",
       "      <th></th>\n",
       "      <th></th>\n",
       "      <th></th>\n",
       "      <th></th>\n",
       "      <th></th>\n",
       "      <th></th>\n",
       "      <th></th>\n",
       "      <th></th>\n",
       "      <th></th>\n",
       "      <th></th>\n",
       "      <th></th>\n",
       "      <th></th>\n",
       "      <th></th>\n",
       "      <th></th>\n",
       "      <th></th>\n",
       "      <th></th>\n",
       "    </tr>\n",
       "  </thead>\n",
       "  <tbody>\n",
       "    <tr>\n",
       "      <th>casual</th>\n",
       "      <td>1351239.00</td>\n",
       "      <td>2.16</td>\n",
       "      <td>2.16</td>\n",
       "      <td>0.00</td>\n",
       "      <td>0.62</td>\n",
       "      <td>1.65</td>\n",
       "      <td>3.03</td>\n",
       "      <td>31.29</td>\n",
       "      <td>1351182.00</td>\n",
       "      <td>inf</td>\n",
       "      <td>nan</td>\n",
       "      <td>-18410.00</td>\n",
       "      <td>0.26</td>\n",
       "      <td>1.95</td>\n",
       "      <td>2.93</td>\n",
       "      <td>inf</td>\n",
       "      <td>1351239.00</td>\n",
       "      <td>2649.53</td>\n",
       "      <td>25733.29</td>\n",
       "      <td>-1739755.00</td>\n",
       "      <td>708.00</td>\n",
       "      <td>1295.00</td>\n",
       "      <td>2453.00</td>\n",
       "      <td>3341033.00</td>\n",
       "    </tr>\n",
       "    <tr>\n",
       "      <th>member</th>\n",
       "      <td>1943452.00</td>\n",
       "      <td>2.26</td>\n",
       "      <td>1.90</td>\n",
       "      <td>0.00</td>\n",
       "      <td>0.95</td>\n",
       "      <td>1.72</td>\n",
       "      <td>3.06</td>\n",
       "      <td>48.37</td>\n",
       "      <td>1943398.00</td>\n",
       "      <td>inf</td>\n",
       "      <td>nan</td>\n",
       "      <td>-10000.00</td>\n",
       "      <td>2.17</td>\n",
       "      <td>2.90</td>\n",
       "      <td>3.56</td>\n",
       "      <td>inf</td>\n",
       "      <td>1943452.00</td>\n",
       "      <td>723.43</td>\n",
       "      <td>20601.48</td>\n",
       "      <td>-1742998.00</td>\n",
       "      <td>394.00</td>\n",
       "      <td>693.00</td>\n",
       "      <td>1208.00</td>\n",
       "      <td>3523202.00</td>\n",
       "    </tr>\n",
       "  </tbody>\n",
       "</table>\n",
       "</div>"
      ],
      "text/plain": [
       "                    dist                                          speed       \\\n",
       "                   count mean  std  min  25%  50%  75%   max      count mean   \n",
       "member_casual                                                                  \n",
       "casual        1351239.00 2.16 2.16 0.00 0.62 1.65 3.03 31.29 1351182.00  inf   \n",
       "member        1943452.00 2.26 1.90 0.00 0.95 1.72 3.06 48.37 1943398.00  inf   \n",
       "\n",
       "                                               time_length                   \\\n",
       "              std       min  25%  50%  75% max       count    mean      std   \n",
       "member_casual                                                                 \n",
       "casual        nan -18410.00 0.26 1.95 2.93 inf  1351239.00 2649.53 25733.29   \n",
       "member        nan -10000.00 2.17 2.90 3.56 inf  1943452.00  723.43 20601.48   \n",
       "\n",
       "                                                             \n",
       "                      min    25%     50%     75%        max  \n",
       "member_casual                                                \n",
       "casual        -1739755.00 708.00 1295.00 2453.00 3341033.00  \n",
       "member        -1742998.00 394.00  693.00 1208.00 3523202.00  "
      ]
     },
     "execution_count": 34,
     "metadata": {},
     "output_type": "execute_result"
    }
   ],
   "source": [
    "df.iloc[:, 12:17].groupby('member_casual').describe()"
   ]
  },
  {
   "cell_type": "code",
   "execution_count": 32,
   "metadata": {},
   "outputs": [],
   "source": [
    "df2.iloc[:, 12:17].groupby('member_casual').describe().to_csv('speed_compare.csv')\n",
    "df.iloc[:, 12:17].groupby('member_casual').describe().to_csv('speed_compare_withoutlier.csv')"
   ]
  },
  {
   "cell_type": "code",
   "execution_count": 19,
   "metadata": {},
   "outputs": [],
   "source": [
    "### time info\n",
    "def plot_cnt_bar(category='weekday'):\n",
    "    fig, ax = plt.subplots(nrows=1, ncols=2, figsize=(18, 6))\n",
    "    sns.countplot(x=category, hue='member_casual', data=df, ax=ax[0])\n",
    "    ax[0].set_title('Count '+category, fontsize=16)\n",
    "    sns.barplot(x=category, y='time_length', hue='member_casual', data=df2, ax=ax[1])\n",
    "    ax[1].set_title('time_length_'+category, fontsize=16)\n",
    "    plt.tight_layout()\n",
    "    plt.savefig('../img/time_length_'+category+'.pdf',bbox_inches='tight', pad_inches=1)\n",
    "    plt.show()"
   ]
  },
  {
   "cell_type": "code",
   "execution_count": 20,
   "metadata": {},
   "outputs": [
    {
     "data": {
      "image/png": "[encoded data removed]",
      "text/plain": [
       "<Figure size 1296x432 with 2 Axes>"
      ]
     },
     "metadata": {
      "needs_background": "light"
     },
     "output_type": "display_data"
    }
   ],
   "source": [
    "plot_cnt_bar(category='time_type')"
   ]
  },
  {
   "cell_type": "code",
   "execution_count": 21,
   "metadata": {},
   "outputs": [
    {
     "data": {
      "image/png": "[encoded data removed]",
      "text/plain": [
       "<Figure size 1296x432 with 2 Axes>"
      ]
     },
     "metadata": {
      "needs_background": "light"
     },
     "output_type": "display_data"
    }
   ],
   "source": [
    "plot_cnt_bar(category='weekday')"
   ]
  },
  {
   "cell_type": "code",
   "execution_count": 22,
   "metadata": {},
   "outputs": [
    {
     "data": {
      "image/png": "[encoded data removed]",
      "text/plain": [
       "<Figure size 1296x432 with 2 Axes>"
      ]
     },
     "metadata": {
      "needs_background": "light"
     },
     "output_type": "display_data"
    }
   ],
   "source": [
    "plot_cnt_bar(category='weekofyear')"
   ]
  },
  {
   "cell_type": "code",
   "execution_count": 23,
   "metadata": {},
   "outputs": [],
   "source": [
    "### spacial info\n",
    "casual_startstation_top20 = Counter(df[df['member_casual'] =='casual']['start_station_name']).most_common(20)\n",
    "member_startstation_top20 = Counter(df[df['member_casual'] =='member']['start_station_name']).most_common(20)\n",
    "station_lst = [i[0] for i in member_startstation_top20] + [i[0] for i in casual_startstation_top20]\n",
    "station_lst = list(set(station_lst))\n",
    "station_df = df[df.start_station_name.isin(station_lst)]"
   ]
  },
  {
   "cell_type": "code",
   "execution_count": 24,
   "metadata": {},
   "outputs": [
    {
     "data": {
      "image/png": "[encoded data removed]",
      "text/plain": [
       "<Figure size 864x576 with 1 Axes>"
      ]
     },
     "metadata": {
      "needs_background": "light"
     },
     "output_type": "display_data"
    }
   ],
   "source": [
    "fig, ax = plt.subplots(figsize=(12,8))\n",
    "sns.countplot(y='start_station_name', hue='member_casual', data=station_df)\n",
    "plt.savefig('station_popularity_compare.pdf',bbox_inches='tight', pad_inches=1)\n",
    "plt.show()"
   ]
  },
  {
   "cell_type": "code",
   "execution_count": 25,
   "metadata": {},
   "outputs": [
    {
     "data": {
      "text/plain": [
       "[('Clark St & Elm St', 20119),\n",
       " ('Broadway & Barry Ave', 15608),\n",
       " ('St. Clair St & Erie St', 15264),\n",
       " ('Dearborn St & Erie St', 15151),\n",
       " ('Wells St & Concord Ln', 14907),\n",
       " ('Theater on the Lake', 14694),\n",
       " ('Kingsbury St & Kinzie St', 14090),\n",
       " ('Wells St & Huron St', 13920),\n",
       " ('Wells St & Elm St', 13865),\n",
       " ('Clark St & Armitage Ave', 13765),\n",
       " ('Lake Shore Dr & North Blvd', 13620),\n",
       " ('Desplaines St & Kinzie St', 13518),\n",
       " ('Lake Shore Dr & Wellington Ave', 12614),\n",
       " ('Columbus Dr & Randolph St', 12306),\n",
       " ('Larrabee St & Webster Ave', 12261),\n",
       " ('Clark St & Schiller St', 12112),\n",
       " ('Clark St & Lincoln Ave', 12097),\n",
       " ('Broadway & Cornelia Ave', 11951),\n",
       " ('Dearborn Pkwy & Delaware Pl', 11789),\n",
       " ('Wabash Ave & Grand Ave', 11626)]"
      ]
     },
     "execution_count": 25,
     "metadata": {},
     "output_type": "execute_result"
    }
   ],
   "source": [
    "member_startstation_top20 = Counter(df[df['member_casual'] =='member']['start_station_name']).most_common(20)\n",
    "member_startstation_top20"
   ]
  },
  {
   "cell_type": "code",
   "execution_count": 26,
   "metadata": {},
   "outputs": [
    {
     "data": {
      "text/plain": [
       "[('Clark St & Elm St', 20610),\n",
       " ('St. Clair St & Erie St', 16401),\n",
       " ('Broadway & Barry Ave', 15832),\n",
       " ('Dearborn St & Erie St', 15761),\n",
       " ('Wells St & Concord Ln', 15390),\n",
       " ('Theater on the Lake', 14357),\n",
       " ('Kingsbury St & Kinzie St', 14290),\n",
       " ('Lake Shore Dr & North Blvd', 13213),\n",
       " ('Wabash Ave & Roosevelt Rd', 13149),\n",
       " ('Wells St & Elm St', 13135),\n",
       " ('Wells St & Huron St', 13056),\n",
       " ('Lake Shore Dr & Wellington Ave', 12850),\n",
       " ('Larrabee St & Webster Ave', 12663),\n",
       " ('Clark St & Armitage Ave', 12605),\n",
       " ('Desplaines St & Kinzie St', 12465),\n",
       " ('Wabash Ave & Grand Ave', 12230),\n",
       " ('Dearborn Pkwy & Delaware Pl', 11873),\n",
       " ('Clark St & Lincoln Ave', 11809),\n",
       " ('Broadway & Cornelia Ave', 11784),\n",
       " ('Clark St & Drummond Pl', 11451)]"
      ]
     },
     "execution_count": 26,
     "metadata": {},
     "output_type": "execute_result"
    }
   ],
   "source": [
    "member_endstation_top20 = Counter(df[df['member_casual'] =='member']['end_station_name']).most_common(20)\n",
    "member_endstation_top20"
   ]
  },
  {
   "cell_type": "code",
   "execution_count": 27,
   "metadata": {},
   "outputs": [
    {
     "data": {
      "text/plain": [
       "[('Streeter Dr & Grand Ave', 26049),\n",
       " ('Lake Shore Dr & Monroe St', 20524),\n",
       " ('Millennium Park', 19283),\n",
       " ('Theater on the Lake', 14939),\n",
       " ('Michigan Ave & Oak St', 13539),\n",
       " ('Indiana Ave & Roosevelt Rd', 13522),\n",
       " ('Lake Shore Dr & North Blvd', 13248),\n",
       " ('Clark St & Elm St', 11862),\n",
       " ('Michigan Ave & Lake St', 11622),\n",
       " ('Michigan Ave & Washington St', 10595),\n",
       " ('Clark St & Lincoln Ave', 10088),\n",
       " ('Buckingham Fountain', 9980),\n",
       " ('Wells St & Concord Ln', 9919),\n",
       " ('Clark St & Armitage Ave', 9769),\n",
       " ('Shedd Aquarium', 9748),\n",
       " ('Wabash Ave & Grand Ave', 9668),\n",
       " ('Michigan Ave & 8th St', 9649),\n",
       " ('Columbus Dr & Randolph St', 9350),\n",
       " ('Wells St & Elm St', 9110),\n",
       " ('Fairbanks Ct & Grand Ave', 8949)]"
      ]
     },
     "execution_count": 27,
     "metadata": {},
     "output_type": "execute_result"
    }
   ],
   "source": [
    "casual_startstation_top20 = Counter(df[df['member_casual'] =='casual']['start_station_name']).most_common(20)\n",
    "casual_startstation_top20"
   ]
  },
  {
   "cell_type": "code",
   "execution_count": null,
   "metadata": {},
   "outputs": [],
   "source": []
  }
 ],
 "metadata": {
  "kernelspec": {
   "display_name": "Python 3",
   "language": "python",
   "name": "python3"
  },
  "language_info": {
   "codemirror_mode": {
    "name": "ipython",
    "version": 3
   },
   "file_extension": ".py",
   "mimetype": "text/x-python",
   "name": "python",
   "nbconvert_exporter": "python",
   "pygments_lexer": "ipython3",
   "version": "3.7.1"
  }
 },
 "nbformat": 4,
 "nbformat_minor": 2
}
